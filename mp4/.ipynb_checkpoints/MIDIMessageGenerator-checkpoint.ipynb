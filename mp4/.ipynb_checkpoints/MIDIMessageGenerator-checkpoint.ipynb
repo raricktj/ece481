{
 "cells": [
  {
   "cell_type": "code",
   "execution_count": 1,
   "metadata": {},
   "outputs": [],
   "source": [
    "from mido import Message, MidiFile, MidiTrack\n",
    "import numpy as np\n",
    "from PIL import Image\n",
    "import matplotlib.pyplot as plt\n",
    "%matplotlib inline"
   ]
  },
  {
   "cell_type": "code",
   "execution_count": 14,
   "metadata": {},
   "outputs": [],
   "source": [
    "mid = MidiFile()\n",
    "track = MidiTrack()\n",
    "\n",
    "mid.tracks.append(track)\n",
    "\n",
    "notes = [0, 2, 4, 5, 7, 9, 11]\n",
    "sections = 8\n",
    "notesPerSection = 4\n",
    "rootNote = 40\n",
    "deltaTime = 128\n",
    "\n",
    "track.append(Message('program_change', program=112, time=0))\n",
    "\n",
    "for i in range(sections):\n",
    "    octave = np.random.randint(0, 3)\n",
    "    for j in range(notesPerSection):\n",
    "        note = np.random.randint(0, 7)\n",
    "        number = rootNote + 12*octave + note\n",
    "                \n",
    "        track.append(Message('note_on', note=number, \n",
    "                             velocity=64, time=0))\n",
    "        \n",
    "        track.append(Message('note_off', note=number, \n",
    "                             velocity=127, time=deltaTime))\n",
    "    \n",
    "    \n",
    "mid.save('randSong.mid')"
   ]
  },
  {
   "cell_type": "code",
   "execution_count": null,
   "metadata": {},
   "outputs": [],
   "source": []
  }
 ],
 "metadata": {
  "kernelspec": {
   "display_name": "Python 3",
   "language": "python",
   "name": "python3"
  },
  "language_info": {
   "codemirror_mode": {
    "name": "ipython",
    "version": 3
   },
   "file_extension": ".py",
   "mimetype": "text/x-python",
   "name": "python",
   "nbconvert_exporter": "python",
   "pygments_lexer": "ipython3",
   "version": "3.6.4"
  }
 },
 "nbformat": 4,
 "nbformat_minor": 2
}
